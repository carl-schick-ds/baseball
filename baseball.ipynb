{
 "cells": [
  {
   "cell_type": "markdown",
   "metadata": {},
   "source": [
    "## Predicting Seasons Played until Peak Performance\n",
    "\n",
    "This project will analyze player statistics from the history of baseball.  During this analysis, we will review the following question:\n",
    " - Can we predict the number of seasons/games played at which a player will hit their peak performance?\n",
    "\n",
    "https://github.com/carl-schick-ds/baseball"
   ]
  },
  {
   "cell_type": "markdown",
   "metadata": {},
   "source": [
    "***\n",
    "### Setup\n",
    "Import needed libraries.  Unless otherwise noted, all libraries are available in the baseline conda environment."
   ]
  },
  {
   "cell_type": "code",
   "execution_count": 186,
   "metadata": {},
   "outputs": [],
   "source": [
    "# Import libraries\n",
    "import pandas as pd\n",
    "import numpy as np\n",
    "from IPython.display import display\n",
    "\n",
    "import matplotlib.pyplot as plt\n",
    "import seaborn as sns"
   ]
  },
  {
   "cell_type": "code",
   "execution_count": 187,
   "metadata": {},
   "outputs": [
    {
     "name": "stdout",
     "output_type": "stream",
     "text": [
      "The autoreload extension is already loaded. To reload it, use:\n",
      "  %reload_ext autoreload\n"
     ]
    }
   ],
   "source": [
    "# Auto Re-load External Modules\n",
    "%load_ext autoreload\n",
    "%autoreload 2"
   ]
  },
  {
   "cell_type": "markdown",
   "metadata": {},
   "source": [
    "***\n",
    "### Data Collection\n",
    "Data collection was not required for this project since the [original dataset](https://www.kaggle.com/seanlahman/the-history-of-baseball) is available online in SQLite and CSV format from Kaggle.  \n",
    "\n",
    "A copy of the SQLite database is included in this repository at `./data/mlb_data.sqlite`.  In addition, I developed an [ER diagram](data/mlb_erd.jpg) of the tables used in this analysis.  While these foreign key relationships do not actually exist in the database structure, they are shown illustratively to see the linkages."
   ]
  },
  {
   "cell_type": "markdown",
   "metadata": {},
   "source": [
    "### Data Loading and Cleaning"
   ]
  },
  {
   "cell_type": "markdown",
   "metadata": {},
   "source": [
    "#### Load players, positions, and performance data"
   ]
  },
  {
   "cell_type": "code",
   "execution_count": 188,
   "metadata": {},
   "outputs": [],
   "source": [
    "# Initiate helper class to manage SQL queries\n",
    "import baseball_dl as dl\n",
    "bb_dl = dl.Baseball_Data_Loader()"
   ]
  },
  {
   "cell_type": "markdown",
   "metadata": {},
   "source": [
    "***\n",
    "Load player attributes\n",
    "***"
   ]
  },
  {
   "cell_type": "code",
   "execution_count": 189,
   "metadata": {},
   "outputs": [
    {
     "data": {
      "text/html": [
       "<div>\n",
       "<style scoped>\n",
       "    .dataframe tbody tr th:only-of-type {\n",
       "        vertical-align: middle;\n",
       "    }\n",
       "\n",
       "    .dataframe tbody tr th {\n",
       "        vertical-align: top;\n",
       "    }\n",
       "\n",
       "    .dataframe thead th {\n",
       "        text-align: right;\n",
       "    }\n",
       "</style>\n",
       "<table border=\"1\" class=\"dataframe\">\n",
       "  <thead>\n",
       "    <tr style=\"text-align: right;\">\n",
       "      <th></th>\n",
       "      <th>name</th>\n",
       "      <th>debut</th>\n",
       "      <th>weight</th>\n",
       "      <th>height</th>\n",
       "      <th>bat_hand</th>\n",
       "      <th>throw_hand</th>\n",
       "    </tr>\n",
       "    <tr>\n",
       "      <th>player_id</th>\n",
       "      <th></th>\n",
       "      <th></th>\n",
       "      <th></th>\n",
       "      <th></th>\n",
       "      <th></th>\n",
       "      <th></th>\n",
       "    </tr>\n",
       "  </thead>\n",
       "  <tbody>\n",
       "    <tr>\n",
       "      <th>aardsda01</th>\n",
       "      <td>David Aardsma</td>\n",
       "      <td>2004-04-06</td>\n",
       "      <td>220</td>\n",
       "      <td>75</td>\n",
       "      <td>R</td>\n",
       "      <td>R</td>\n",
       "    </tr>\n",
       "    <tr>\n",
       "      <th>aaronha01</th>\n",
       "      <td>Hank Aaron</td>\n",
       "      <td>1954-04-13</td>\n",
       "      <td>180</td>\n",
       "      <td>72</td>\n",
       "      <td>R</td>\n",
       "      <td>R</td>\n",
       "    </tr>\n",
       "    <tr>\n",
       "      <th>aaronto01</th>\n",
       "      <td>Tommie Aaron</td>\n",
       "      <td>1962-04-10</td>\n",
       "      <td>190</td>\n",
       "      <td>75</td>\n",
       "      <td>R</td>\n",
       "      <td>R</td>\n",
       "    </tr>\n",
       "    <tr>\n",
       "      <th>aasedo01</th>\n",
       "      <td>Don Aase</td>\n",
       "      <td>1977-07-26</td>\n",
       "      <td>190</td>\n",
       "      <td>75</td>\n",
       "      <td>R</td>\n",
       "      <td>R</td>\n",
       "    </tr>\n",
       "    <tr>\n",
       "      <th>abadan01</th>\n",
       "      <td>Andy Abad</td>\n",
       "      <td>2001-09-10</td>\n",
       "      <td>184</td>\n",
       "      <td>73</td>\n",
       "      <td>L</td>\n",
       "      <td>L</td>\n",
       "    </tr>\n",
       "  </tbody>\n",
       "</table>\n",
       "</div>"
      ],
      "text/plain": [
       "                    name       debut weight height bat_hand throw_hand\n",
       "player_id                                                             \n",
       "aardsda01  David Aardsma  2004-04-06    220     75        R          R\n",
       "aaronha01     Hank Aaron  1954-04-13    180     72        R          R\n",
       "aaronto01   Tommie Aaron  1962-04-10    190     75        R          R\n",
       "aasedo01        Don Aase  1977-07-26    190     75        R          R\n",
       "abadan01       Andy Abad  2001-09-10    184     73        L          L"
      ]
     },
     "metadata": {},
     "output_type": "display_data"
    }
   ],
   "source": [
    "players_df = bb_dl.get_players()"
   ]
  },
  {
   "cell_type": "markdown",
   "metadata": {},
   "source": [
    "***\n",
    "Load positions played by each player\n",
    "***"
   ]
  },
  {
   "cell_type": "code",
   "execution_count": 190,
   "metadata": {},
   "outputs": [
    {
     "data": {
      "text/html": [
       "<div>\n",
       "<style scoped>\n",
       "    .dataframe tbody tr th:only-of-type {\n",
       "        vertical-align: middle;\n",
       "    }\n",
       "\n",
       "    .dataframe tbody tr th {\n",
       "        vertical-align: top;\n",
       "    }\n",
       "\n",
       "    .dataframe thead th {\n",
       "        text-align: right;\n",
       "    }\n",
       "</style>\n",
       "<table border=\"1\" class=\"dataframe\">\n",
       "  <thead>\n",
       "    <tr style=\"text-align: right;\">\n",
       "      <th></th>\n",
       "      <th>player_id</th>\n",
       "      <th>catcher</th>\n",
       "      <th>firstbaseman</th>\n",
       "      <th>secondbaseman</th>\n",
       "      <th>thirdbaseman</th>\n",
       "      <th>shortstop</th>\n",
       "      <th>outfielder</th>\n",
       "    </tr>\n",
       "  </thead>\n",
       "  <tbody>\n",
       "    <tr>\n",
       "      <th>0</th>\n",
       "      <td>aardsda01</td>\n",
       "      <td>0</td>\n",
       "      <td>0</td>\n",
       "      <td>0</td>\n",
       "      <td>0</td>\n",
       "      <td>0</td>\n",
       "      <td>0</td>\n",
       "    </tr>\n",
       "    <tr>\n",
       "      <th>1</th>\n",
       "      <td>aaronha01</td>\n",
       "      <td>0</td>\n",
       "      <td>210</td>\n",
       "      <td>43</td>\n",
       "      <td>7</td>\n",
       "      <td>0</td>\n",
       "      <td>2760</td>\n",
       "    </tr>\n",
       "    <tr>\n",
       "      <th>2</th>\n",
       "      <td>aaronto01</td>\n",
       "      <td>0</td>\n",
       "      <td>232</td>\n",
       "      <td>7</td>\n",
       "      <td>10</td>\n",
       "      <td>0</td>\n",
       "      <td>138</td>\n",
       "    </tr>\n",
       "    <tr>\n",
       "      <th>3</th>\n",
       "      <td>aasedo01</td>\n",
       "      <td>0</td>\n",
       "      <td>0</td>\n",
       "      <td>0</td>\n",
       "      <td>0</td>\n",
       "      <td>0</td>\n",
       "      <td>0</td>\n",
       "    </tr>\n",
       "    <tr>\n",
       "      <th>4</th>\n",
       "      <td>abadan01</td>\n",
       "      <td>0</td>\n",
       "      <td>8</td>\n",
       "      <td>0</td>\n",
       "      <td>0</td>\n",
       "      <td>0</td>\n",
       "      <td>1</td>\n",
       "    </tr>\n",
       "  </tbody>\n",
       "</table>\n",
       "</div>"
      ],
      "text/plain": [
       "   player_id  catcher  firstbaseman  secondbaseman  thirdbaseman  shortstop  \\\n",
       "0  aardsda01        0             0              0             0          0   \n",
       "1  aaronha01        0           210             43             7          0   \n",
       "2  aaronto01        0           232              7            10          0   \n",
       "3   aasedo01        0             0              0             0          0   \n",
       "4   abadan01        0             8              0             0          0   \n",
       "\n",
       "   outfielder  \n",
       "0           0  \n",
       "1        2760  \n",
       "2         138  \n",
       "3           0  \n",
       "4           1  "
      ]
     },
     "metadata": {},
     "output_type": "display_data"
    }
   ],
   "source": [
    "plyr_pos_df = bb_dl.get_player_positions()"
   ]
  },
  {
   "cell_type": "markdown",
   "metadata": {},
   "source": [
    "***\n",
    "Load key performance indicators for each player\n",
    "***"
   ]
  },
  {
   "cell_type": "code",
   "execution_count": 191,
   "metadata": {},
   "outputs": [
    {
     "data": {
      "text/html": [
       "<div>\n",
       "<style scoped>\n",
       "    .dataframe tbody tr th:only-of-type {\n",
       "        vertical-align: middle;\n",
       "    }\n",
       "\n",
       "    .dataframe tbody tr th {\n",
       "        vertical-align: top;\n",
       "    }\n",
       "\n",
       "    .dataframe thead th {\n",
       "        text-align: right;\n",
       "    }\n",
       "</style>\n",
       "<table border=\"1\" class=\"dataframe\">\n",
       "  <thead>\n",
       "    <tr style=\"text-align: right;\">\n",
       "      <th></th>\n",
       "      <th>player_id</th>\n",
       "      <th>year</th>\n",
       "      <th>stint</th>\n",
       "      <th>games_yr</th>\n",
       "      <th>at_bats</th>\n",
       "      <th>hits</th>\n",
       "      <th>hr</th>\n",
       "      <th>rbi</th>\n",
       "    </tr>\n",
       "  </thead>\n",
       "  <tbody>\n",
       "    <tr>\n",
       "      <th>0</th>\n",
       "      <td>abercda01</td>\n",
       "      <td>1871</td>\n",
       "      <td>1</td>\n",
       "      <td>1</td>\n",
       "      <td>4</td>\n",
       "      <td>0</td>\n",
       "      <td>0</td>\n",
       "      <td>0</td>\n",
       "    </tr>\n",
       "    <tr>\n",
       "      <th>1</th>\n",
       "      <td>addybo01</td>\n",
       "      <td>1871</td>\n",
       "      <td>1</td>\n",
       "      <td>25</td>\n",
       "      <td>118</td>\n",
       "      <td>32</td>\n",
       "      <td>0</td>\n",
       "      <td>13</td>\n",
       "    </tr>\n",
       "    <tr>\n",
       "      <th>2</th>\n",
       "      <td>allisar01</td>\n",
       "      <td>1871</td>\n",
       "      <td>1</td>\n",
       "      <td>29</td>\n",
       "      <td>137</td>\n",
       "      <td>40</td>\n",
       "      <td>0</td>\n",
       "      <td>19</td>\n",
       "    </tr>\n",
       "    <tr>\n",
       "      <th>3</th>\n",
       "      <td>allisdo01</td>\n",
       "      <td>1871</td>\n",
       "      <td>1</td>\n",
       "      <td>27</td>\n",
       "      <td>133</td>\n",
       "      <td>44</td>\n",
       "      <td>2</td>\n",
       "      <td>27</td>\n",
       "    </tr>\n",
       "    <tr>\n",
       "      <th>4</th>\n",
       "      <td>ansonca01</td>\n",
       "      <td>1871</td>\n",
       "      <td>1</td>\n",
       "      <td>25</td>\n",
       "      <td>120</td>\n",
       "      <td>39</td>\n",
       "      <td>0</td>\n",
       "      <td>16</td>\n",
       "    </tr>\n",
       "  </tbody>\n",
       "</table>\n",
       "</div>"
      ],
      "text/plain": [
       "   player_id  year  stint  games_yr at_bats hits hr rbi\n",
       "0  abercda01  1871      1         1       4    0  0   0\n",
       "1   addybo01  1871      1        25     118   32  0  13\n",
       "2  allisar01  1871      1        29     137   40  0  19\n",
       "3  allisdo01  1871      1        27     133   44  2  27\n",
       "4  ansonca01  1871      1        25     120   39  0  16"
      ]
     },
     "metadata": {},
     "output_type": "display_data"
    }
   ],
   "source": [
    "performance_df = bb_dl.get_player_performance()"
   ]
  },
  {
   "cell_type": "markdown",
   "metadata": {},
   "source": [
    "#### Clean and massage player data"
   ]
  },
  {
   "cell_type": "code",
   "execution_count": 192,
   "metadata": {},
   "outputs": [
    {
     "name": "stdout",
     "output_type": "stream",
     "text": [
      "name          0\n",
      "debut         0\n",
      "weight        0\n",
      "height        0\n",
      "bat_hand      0\n",
      "throw_hand    0\n",
      "dtype: int64\n",
      "<class 'pandas.core.frame.DataFrame'>\n",
      "Index: 18846 entries, aardsda01 to zychto01\n",
      "Data columns (total 6 columns):\n",
      " #   Column      Non-Null Count  Dtype \n",
      "---  ------      --------------  ----- \n",
      " 0   name        18846 non-null  object\n",
      " 1   debut       18846 non-null  object\n",
      " 2   weight      18846 non-null  object\n",
      " 3   height      18846 non-null  object\n",
      " 4   bat_hand    18846 non-null  object\n",
      " 5   throw_hand  18846 non-null  object\n",
      "dtypes: object(6)\n",
      "memory usage: 1.0+ MB\n",
      "None\n"
     ]
    }
   ],
   "source": [
    "# Check for missing data and data structure\n",
    "print(players_df.isnull().sum())\n",
    "print(players_df.info())"
   ]
  },
  {
   "cell_type": "markdown",
   "metadata": {},
   "source": [
    "***\n",
    "Debut is the date when the player first played a game.  We want to convert this into the player's rookie year.  \n",
    "Since only 193 of 18,846 players are missing rookie years, we will drop them.\n",
    "***"
   ]
  },
  {
   "cell_type": "code",
   "execution_count": 193,
   "metadata": {},
   "outputs": [
    {
     "name": "stdout",
     "output_type": "stream",
     "text": [
      "\n",
      "Number of players to drop due to missing rookie years:  193\n"
     ]
    }
   ],
   "source": [
    "def manage_rookie_year(players_df):\n",
    "    players_wdf = players_df.copy()\n",
    "\n",
    "    players_wdf['debut'] = pd.to_datetime(players_wdf['debut'])\n",
    "    players_wdf['rookie_year'] = players_wdf['debut'].dt.year\n",
    "    players_wdf.drop(['debut'] , axis=1, inplace=True)\n",
    "    print(\"\\nNumber of players to drop due to missing rookie years: \", players_wdf['rookie_year'].isna().sum())\n",
    "\n",
    "    players_wdf.dropna(subset=['rookie_year'], inplace=True)\n",
    "    players_wdf['rookie_year'] = players_wdf['rookie_year'].astype(int)\n",
    "\n",
    "    assert(players_wdf[players_wdf['rookie_year'] == '']['rookie_year'].count() == 0)\n",
    "    return players_wdf\n",
    "\n",
    "players_df = manage_rookie_year(players_df)"
   ]
  },
  {
   "cell_type": "markdown",
   "metadata": {},
   "source": [
    "***\n",
    "Since data is represented as strings, let's look for missing values as empty strings.  \n",
    "Missing heights, weights, batting hand, and throwing hand or mostly from the 1800s.  \n",
    "As with rookie-year, rows with missing data are nominal, and we will drop them.\n",
    "***"
   ]
  },
  {
   "cell_type": "code",
   "execution_count": 194,
   "metadata": {},
   "outputs": [
    {
     "data": {
      "text/plain": [
       "18    630\n",
       "19    193\n",
       "Name: rookie_year, dtype: int64"
      ]
     },
     "metadata": {},
     "output_type": "display_data"
    },
    {
     "data": {
      "text/plain": [
       "18    1040\n",
       "19     161\n",
       "Name: rookie_year, dtype: int64"
      ]
     },
     "metadata": {},
     "output_type": "display_data"
    },
    {
     "name": "stdout",
     "output_type": "stream",
     "text": [
      "\n",
      "Number of players to drop due to missing height or weight:  823\n",
      "Number of players to drop due to missing rookie years:  1201\n"
     ]
    }
   ],
   "source": [
    "def clean_player_columns(players_df):\n",
    "    players_wdf = players_df.copy()\n",
    "    missing_height_or_weight = (players_wdf['height'] == '') | (players_wdf['weight'] == '')\n",
    "    display(players_wdf[missing_height_or_weight]['rookie_year'].astype(str).str[0:2].value_counts())\n",
    "\n",
    "    missing_bat_or_throw_hand = (players_wdf['bat_hand'] == '') | (players_wdf['throw_hand'] == '')\n",
    "    display(players_wdf[missing_bat_or_throw_hand]['rookie_year'].astype(str).str[0:2].value_counts())\n",
    "\n",
    "    print(\"\\nNumber of players to drop due to missing height or weight: \", players_wdf[missing_height_or_weight]['name'].count())\n",
    "    print(\"Number of players to drop due to missing rookie years: \", players_wdf[missing_bat_or_throw_hand]['name'].count())\n",
    "    players_wdf = players_wdf[~missing_height_or_weight & ~missing_bat_or_throw_hand]\n",
    "\n",
    "    players_wdf['height'] = players_wdf['height'].astype(int)\n",
    "    players_wdf['weight'] = players_wdf['weight'].astype(int)\n",
    "\n",
    "    return players_wdf\n",
    "\n",
    "players_df = clean_player_columns(players_df)"
   ]
  },
  {
   "cell_type": "markdown",
   "metadata": {},
   "source": [
    "***\n",
    "Confirm batting hand and throwing hand data is as expected.\n",
    "***"
   ]
  },
  {
   "cell_type": "code",
   "execution_count": 195,
   "metadata": {},
   "outputs": [
    {
     "name": "stdout",
     "output_type": "stream",
     "text": [
      "R    11346\n",
      "L     4767\n",
      "B     1139\n",
      "Name: bat_hand, dtype: int64\n",
      "R    13783\n",
      "L     3469\n",
      "Name: throw_hand, dtype: int64\n"
     ]
    }
   ],
   "source": [
    "print(players_df['bat_hand'].value_counts())\n",
    "print(players_df['throw_hand'].value_counts())"
   ]
  },
  {
   "cell_type": "markdown",
   "metadata": {},
   "source": [
    "***\n",
    "Final summary.\n",
    "***"
   ]
  },
  {
   "cell_type": "code",
   "execution_count": 196,
   "metadata": {},
   "outputs": [
    {
     "name": "stdout",
     "output_type": "stream",
     "text": [
      "<class 'pandas.core.frame.DataFrame'>\n",
      "Index: 17252 entries, aardsda01 to zychto01\n",
      "Data columns (total 6 columns):\n",
      " #   Column       Non-Null Count  Dtype \n",
      "---  ------       --------------  ----- \n",
      " 0   name         17252 non-null  object\n",
      " 1   weight       17252 non-null  int64 \n",
      " 2   height       17252 non-null  int64 \n",
      " 3   bat_hand     17252 non-null  object\n",
      " 4   throw_hand   17252 non-null  object\n",
      " 5   rookie_year  17252 non-null  int64 \n",
      "dtypes: int64(3), object(3)\n",
      "memory usage: 943.5+ KB\n",
      "None\n",
      "(17252, 6)\n"
     ]
    },
    {
     "data": {
      "text/html": [
       "<div>\n",
       "<style scoped>\n",
       "    .dataframe tbody tr th:only-of-type {\n",
       "        vertical-align: middle;\n",
       "    }\n",
       "\n",
       "    .dataframe tbody tr th {\n",
       "        vertical-align: top;\n",
       "    }\n",
       "\n",
       "    .dataframe thead th {\n",
       "        text-align: right;\n",
       "    }\n",
       "</style>\n",
       "<table border=\"1\" class=\"dataframe\">\n",
       "  <thead>\n",
       "    <tr style=\"text-align: right;\">\n",
       "      <th></th>\n",
       "      <th>name</th>\n",
       "      <th>weight</th>\n",
       "      <th>height</th>\n",
       "      <th>bat_hand</th>\n",
       "      <th>throw_hand</th>\n",
       "      <th>rookie_year</th>\n",
       "    </tr>\n",
       "    <tr>\n",
       "      <th>player_id</th>\n",
       "      <th></th>\n",
       "      <th></th>\n",
       "      <th></th>\n",
       "      <th></th>\n",
       "      <th></th>\n",
       "      <th></th>\n",
       "    </tr>\n",
       "  </thead>\n",
       "  <tbody>\n",
       "    <tr>\n",
       "      <th>aardsda01</th>\n",
       "      <td>David Aardsma</td>\n",
       "      <td>220</td>\n",
       "      <td>75</td>\n",
       "      <td>R</td>\n",
       "      <td>R</td>\n",
       "      <td>2004</td>\n",
       "    </tr>\n",
       "    <tr>\n",
       "      <th>aaronha01</th>\n",
       "      <td>Hank Aaron</td>\n",
       "      <td>180</td>\n",
       "      <td>72</td>\n",
       "      <td>R</td>\n",
       "      <td>R</td>\n",
       "      <td>1954</td>\n",
       "    </tr>\n",
       "    <tr>\n",
       "      <th>aaronto01</th>\n",
       "      <td>Tommie Aaron</td>\n",
       "      <td>190</td>\n",
       "      <td>75</td>\n",
       "      <td>R</td>\n",
       "      <td>R</td>\n",
       "      <td>1962</td>\n",
       "    </tr>\n",
       "    <tr>\n",
       "      <th>aasedo01</th>\n",
       "      <td>Don Aase</td>\n",
       "      <td>190</td>\n",
       "      <td>75</td>\n",
       "      <td>R</td>\n",
       "      <td>R</td>\n",
       "      <td>1977</td>\n",
       "    </tr>\n",
       "    <tr>\n",
       "      <th>abadan01</th>\n",
       "      <td>Andy Abad</td>\n",
       "      <td>184</td>\n",
       "      <td>73</td>\n",
       "      <td>L</td>\n",
       "      <td>L</td>\n",
       "      <td>2001</td>\n",
       "    </tr>\n",
       "  </tbody>\n",
       "</table>\n",
       "</div>"
      ],
      "text/plain": [
       "                    name  weight  height bat_hand throw_hand  rookie_year\n",
       "player_id                                                                \n",
       "aardsda01  David Aardsma     220      75        R          R         2004\n",
       "aaronha01     Hank Aaron     180      72        R          R         1954\n",
       "aaronto01   Tommie Aaron     190      75        R          R         1962\n",
       "aasedo01        Don Aase     190      75        R          R         1977\n",
       "abadan01       Andy Abad     184      73        L          L         2001"
      ]
     },
     "metadata": {},
     "output_type": "display_data"
    }
   ],
   "source": [
    "print(players_df.info())\n",
    "print(players_df.shape)\n",
    "display(players_df.head())"
   ]
  },
  {
   "cell_type": "markdown",
   "metadata": {},
   "source": [
    "#### Clean and massage position data"
   ]
  },
  {
   "cell_type": "code",
   "execution_count": 197,
   "metadata": {},
   "outputs": [
    {
     "name": "stdout",
     "output_type": "stream",
     "text": [
      "player_id        0\n",
      "catcher          0\n",
      "firstbaseman     0\n",
      "secondbaseman    0\n",
      "thirdbaseman     0\n",
      "shortstop        0\n",
      "outfielder       0\n",
      "dtype: int64\n",
      "<class 'pandas.core.frame.DataFrame'>\n",
      "Int64Index: 17249 entries, 0 to 18659\n",
      "Data columns (total 7 columns):\n",
      " #   Column         Non-Null Count  Dtype \n",
      "---  ------         --------------  ----- \n",
      " 0   player_id      17249 non-null  object\n",
      " 1   catcher        17249 non-null  int64 \n",
      " 2   firstbaseman   17249 non-null  int64 \n",
      " 3   secondbaseman  17249 non-null  int64 \n",
      " 4   thirdbaseman   17249 non-null  int64 \n",
      " 5   shortstop      17249 non-null  int64 \n",
      " 6   outfielder     17249 non-null  int64 \n",
      "dtypes: int64(6), object(1)\n",
      "memory usage: 1.1+ MB\n",
      "None\n"
     ]
    }
   ],
   "source": [
    "# Only evaluate players in the player list\n",
    "player_list = players_df.index.tolist()\n",
    "plyr_pos_df = plyr_pos_df[plyr_pos_df['player_id'].isin(player_list)]\n",
    "\n",
    "# Check for missing data and data structure\n",
    "print(plyr_pos_df.isnull().sum())\n",
    "print(plyr_pos_df.info())"
   ]
  },
  {
   "cell_type": "markdown",
   "metadata": {},
   "source": [
    "***\n",
    "To qualify for inclusion in the analysis, a player needs to have played a primary position for at least one season.  \n",
    "The number of games in 1 MLB season today (and since 1961) is 162, it was 140 in 1901 and 154 in 1920.  We will use 140 as the threshold.  \n",
    "\n",
    "Although players tend to play one primary position, they often shift among a few positions.  We will only analyze their \"primary position\", with \"primary position\" being defined as the position they spent the most time at over their careers.  For outfielders, shifting between left, right, and center is so common that we will group all outfielders into a single 'outfielder' position.  This grouping was already included in the raw data retrieval.  \n",
    "\n",
    "Finally, we will add a further grouping to aggregate infielders, outfielders, and catchers into three distinct position groups.  This will be useful for summary analysis and was added after preliminary analysis showed minor distinctions within the infielder positions.\n",
    "***"
   ]
  },
  {
   "cell_type": "code",
   "execution_count": 198,
   "metadata": {},
   "outputs": [],
   "source": [
    "def calculate_primary_position(plyr_pos_df):\n",
    "    plyr_pos_wdf = plyr_pos_df.copy()\n",
    "    games_played_threshold = 140\n",
    "    positions = ['catcher', 'firstbaseman', 'secondbaseman', 'thirdbaseman', 'shortstop', 'outfielder']\n",
    "    min_games_at_max_pos = plyr_pos_wdf[positions].max(axis=1) > games_played_threshold\n",
    "    plyr_pos_wdf = plyr_pos_wdf[min_games_at_max_pos]\n",
    "\n",
    "    plyr_pos_wdf['position'] = plyr_pos_wdf[positions].idxmax(axis=1)\n",
    "    plyr_pos_wdf['position_group'] = plyr_pos_wdf['position'].apply(lambda x: 'catcher' if x == 'catcher' else 'outfielder' if x == 'outfielder' else 'infielder')\n",
    "\n",
    "    return plyr_pos_wdf\n",
    "\n",
    "plyr_pos_df = calculate_primary_position(plyr_pos_df)"
   ]
  },
  {
   "cell_type": "markdown",
   "metadata": {},
   "source": [
    "***\n",
    "Add the player's primary position and position group into the players dataframe.\n",
    "***"
   ]
  },
  {
   "cell_type": "code",
   "execution_count": 199,
   "metadata": {},
   "outputs": [
    {
     "data": {
      "text/html": [
       "<div>\n",
       "<style scoped>\n",
       "    .dataframe tbody tr th:only-of-type {\n",
       "        vertical-align: middle;\n",
       "    }\n",
       "\n",
       "    .dataframe tbody tr th {\n",
       "        vertical-align: top;\n",
       "    }\n",
       "\n",
       "    .dataframe thead th {\n",
       "        text-align: right;\n",
       "    }\n",
       "</style>\n",
       "<table border=\"1\" class=\"dataframe\">\n",
       "  <thead>\n",
       "    <tr style=\"text-align: right;\">\n",
       "      <th></th>\n",
       "      <th>name</th>\n",
       "      <th>weight</th>\n",
       "      <th>height</th>\n",
       "      <th>bat_hand</th>\n",
       "      <th>throw_hand</th>\n",
       "      <th>rookie_year</th>\n",
       "      <th>position</th>\n",
       "      <th>position_group</th>\n",
       "    </tr>\n",
       "    <tr>\n",
       "      <th>player_id</th>\n",
       "      <th></th>\n",
       "      <th></th>\n",
       "      <th></th>\n",
       "      <th></th>\n",
       "      <th></th>\n",
       "      <th></th>\n",
       "      <th></th>\n",
       "      <th></th>\n",
       "    </tr>\n",
       "  </thead>\n",
       "  <tbody>\n",
       "    <tr>\n",
       "      <th>aaronha01</th>\n",
       "      <td>Hank Aaron</td>\n",
       "      <td>180</td>\n",
       "      <td>72</td>\n",
       "      <td>R</td>\n",
       "      <td>R</td>\n",
       "      <td>1954</td>\n",
       "      <td>outfielder</td>\n",
       "      <td>outfielder</td>\n",
       "    </tr>\n",
       "    <tr>\n",
       "      <th>aaronto01</th>\n",
       "      <td>Tommie Aaron</td>\n",
       "      <td>190</td>\n",
       "      <td>75</td>\n",
       "      <td>R</td>\n",
       "      <td>R</td>\n",
       "      <td>1962</td>\n",
       "      <td>firstbaseman</td>\n",
       "      <td>infielder</td>\n",
       "    </tr>\n",
       "    <tr>\n",
       "      <th>abbated01</th>\n",
       "      <td>Ed Abbaticchio</td>\n",
       "      <td>170</td>\n",
       "      <td>71</td>\n",
       "      <td>R</td>\n",
       "      <td>R</td>\n",
       "      <td>1897</td>\n",
       "      <td>secondbaseman</td>\n",
       "      <td>infielder</td>\n",
       "    </tr>\n",
       "    <tr>\n",
       "      <th>abbeych01</th>\n",
       "      <td>Charlie Abbey</td>\n",
       "      <td>169</td>\n",
       "      <td>68</td>\n",
       "      <td>L</td>\n",
       "      <td>L</td>\n",
       "      <td>1893</td>\n",
       "      <td>outfielder</td>\n",
       "      <td>outfielder</td>\n",
       "    </tr>\n",
       "    <tr>\n",
       "      <th>abbotje01</th>\n",
       "      <td>Jeff Abbott</td>\n",
       "      <td>190</td>\n",
       "      <td>74</td>\n",
       "      <td>R</td>\n",
       "      <td>L</td>\n",
       "      <td>1997</td>\n",
       "      <td>outfielder</td>\n",
       "      <td>outfielder</td>\n",
       "    </tr>\n",
       "  </tbody>\n",
       "</table>\n",
       "</div>"
      ],
      "text/plain": [
       "                     name  weight  height bat_hand throw_hand  rookie_year  \\\n",
       "player_id                                                                    \n",
       "aaronha01      Hank Aaron     180      72        R          R         1954   \n",
       "aaronto01    Tommie Aaron     190      75        R          R         1962   \n",
       "abbated01  Ed Abbaticchio     170      71        R          R         1897   \n",
       "abbeych01   Charlie Abbey     169      68        L          L         1893   \n",
       "abbotje01     Jeff Abbott     190      74        R          L         1997   \n",
       "\n",
       "                position position_group  \n",
       "player_id                                \n",
       "aaronha01     outfielder     outfielder  \n",
       "aaronto01   firstbaseman      infielder  \n",
       "abbated01  secondbaseman      infielder  \n",
       "abbeych01     outfielder     outfielder  \n",
       "abbotje01     outfielder     outfielder  "
      ]
     },
     "execution_count": 199,
     "metadata": {},
     "output_type": "execute_result"
    }
   ],
   "source": [
    "plyr_pos_df.set_index('player_id', inplace=True)\n",
    "players_df = pd.concat([players_df, plyr_pos_df[['position', 'position_group']]], axis=1, join='inner')\n",
    "players_df.head()"
   ]
  },
  {
   "cell_type": "markdown",
   "metadata": {},
   "source": [
    "#### Clean and massage performance data"
   ]
  },
  {
   "cell_type": "code",
   "execution_count": 200,
   "metadata": {},
   "outputs": [
    {
     "name": "stdout",
     "output_type": "stream",
     "text": [
      "player_id    0\n",
      "year         0\n",
      "stint        0\n",
      "games_yr     0\n",
      "at_bats      0\n",
      "hits         0\n",
      "hr           0\n",
      "rbi          0\n",
      "dtype: int64\n",
      "<class 'pandas.core.frame.DataFrame'>\n",
      "Int64Index: 45099 entries, 1 to 101330\n",
      "Data columns (total 8 columns):\n",
      " #   Column     Non-Null Count  Dtype \n",
      "---  ------     --------------  ----- \n",
      " 0   player_id  45099 non-null  object\n",
      " 1   year       45099 non-null  int64 \n",
      " 2   stint      45099 non-null  int64 \n",
      " 3   games_yr   45099 non-null  int64 \n",
      " 4   at_bats    45099 non-null  object\n",
      " 5   hits       45099 non-null  object\n",
      " 6   hr         45099 non-null  object\n",
      " 7   rbi        45099 non-null  object\n",
      "dtypes: int64(3), object(5)\n",
      "memory usage: 3.1+ MB\n",
      "None\n"
     ]
    }
   ],
   "source": [
    "# Only evaluate players in the player list\n",
    "player_list = players_df.index.tolist()\n",
    "performance_df = performance_df[performance_df['player_id'].isin(player_list)]\n",
    "\n",
    "# Check for missing data and data structure\n",
    "print(performance_df.isnull().sum())\n",
    "print(performance_df.info())"
   ]
  },
  {
   "cell_type": "markdown",
   "metadata": {},
   "source": [
    "***\n",
    "The presence of key statistics is vital for our analysis.  We will drop any performance data that is lacking these measures (only .17% of our dataset).\n",
    "***"
   ]
  },
  {
   "cell_type": "code",
   "execution_count": 201,
   "metadata": {},
   "outputs": [
    {
     "name": "stdout",
     "output_type": "stream",
     "text": [
      "\n",
      "Number of players to drop due to missing key statistics:  76\n"
     ]
    }
   ],
   "source": [
    "def clean_stats_columns(performance_df):\n",
    "    performance_wdf = performance_df.copy()\n",
    "    missing_key_stats = (performance_wdf['at_bats'] == '') | (performance_wdf['hits'] == '') | (performance_wdf['hr'] == '') | (performance_wdf['rbi'] == '')\n",
    "\n",
    "    print(\"\\nNumber of players to drop due to missing key statistics: \", performance_wdf[missing_key_stats]['year'].count())\n",
    "    performance_wdf = performance_wdf[~missing_key_stats]\n",
    "\n",
    "    return performance_wdf\n",
    "\n",
    "performance_df = clean_stats_columns(performance_df)"
   ]
  },
  {
   "cell_type": "markdown",
   "metadata": {},
   "source": [
    "***\n",
    "Player performance is commonly evaluated based on three key metrics: batting average, runs batted in, and home runs.  Note that the evaluation for pitchers is based on wins, earned run average, and strikeouts.  We will only examine non-pitchers in this analysis.  \n",
    "\n",
    "* Batting average (ba): calculated as the number of hits divided by the number of at-bats during a given season.  \n",
    "* Runs batted in (rbi): retrieved directly from the raw data  \n",
    "* Home runs (hr): retrieved directly from the raw data  \n",
    "\n",
    "These three statics are calculated for each players, for each year (or stint/partial-year if the player moved teams).  Since a large sample of at-bats is necessary to compare statistics across players, we will use the common threshold of 502 at-bats in a given season/stint in order for that year to qualify for analysis.\n",
    "***"
   ]
  },
  {
   "cell_type": "code",
   "execution_count": 202,
   "metadata": {},
   "outputs": [
    {
     "data": {
      "text/plain": [
       "(8440, 9)"
      ]
     },
     "metadata": {},
     "output_type": "display_data"
    },
    {
     "data": {
      "text/plain": [
       "1    8407\n",
       "2      33\n",
       "Name: stint, dtype: int64"
      ]
     },
     "metadata": {},
     "output_type": "display_data"
    },
    {
     "data": {
      "text/plain": [
       "8440"
      ]
     },
     "metadata": {},
     "output_type": "display_data"
    }
   ],
   "source": [
    "def calculate_statistics(performance_df):\n",
    "    performance_wdf = performance_df.copy()\n",
    "\n",
    "    at_bats_threshold = 502\n",
    "    performance_wdf['at_bats'] = performance_wdf['at_bats'].astype(int)\n",
    "    necessary_at_bats = performance_wdf['at_bats'] > at_bats_threshold\n",
    "    performance_wdf = performance_wdf[necessary_at_bats]\n",
    "\n",
    "    performance_wdf['hits'] = performance_wdf['hits'].astype(int)\n",
    "    performance_wdf['hr'] = performance_wdf['hr'].astype(int)\n",
    "    performance_wdf['rbi'] = performance_wdf['rbi'].astype(int)\n",
    "    performance_wdf['ba'] = performance_wdf['hits'] / performance_wdf['at_bats']\n",
    "\n",
    "    ## No Player-Year combo has more than one stint with > 502 at bats; hence we can drop stint\n",
    "    display(performance_wdf.shape)\n",
    "    display(performance_wdf['stint'].value_counts())\n",
    "    display(performance_wdf.groupby(['player_id', 'year']).ngroups)\n",
    "    performance_wdf.drop(['stint', 'at_bats', 'hits'] , axis=1, inplace=True)\n",
    "\n",
    "    return performance_wdf\n",
    "\n",
    "performance_df = calculate_statistics(performance_df)"
   ]
  },
  {
   "cell_type": "markdown",
   "metadata": {},
   "source": [
    "***\n",
    "Before we find each player's peak performance year, we will calculate the cumulative seasons and cumulative games played at the end of each season.\n",
    "***"
   ]
  },
  {
   "cell_type": "code",
   "execution_count": 203,
   "metadata": {},
   "outputs": [
    {
     "data": {
      "text/html": [
       "<div>\n",
       "<style scoped>\n",
       "    .dataframe tbody tr th:only-of-type {\n",
       "        vertical-align: middle;\n",
       "    }\n",
       "\n",
       "    .dataframe tbody tr th {\n",
       "        vertical-align: top;\n",
       "    }\n",
       "\n",
       "    .dataframe thead th {\n",
       "        text-align: right;\n",
       "    }\n",
       "</style>\n",
       "<table border=\"1\" class=\"dataframe\">\n",
       "  <thead>\n",
       "    <tr style=\"text-align: right;\">\n",
       "      <th></th>\n",
       "      <th>player_id</th>\n",
       "      <th>year</th>\n",
       "      <th>games_yr</th>\n",
       "      <th>hr</th>\n",
       "      <th>rbi</th>\n",
       "      <th>ba</th>\n",
       "      <th>season</th>\n",
       "      <th>games</th>\n",
       "    </tr>\n",
       "  </thead>\n",
       "  <tbody>\n",
       "    <tr>\n",
       "      <th>37447</th>\n",
       "      <td>aaronha01</td>\n",
       "      <td>1955</td>\n",
       "      <td>153</td>\n",
       "      <td>27</td>\n",
       "      <td>106</td>\n",
       "      <td>0.313953</td>\n",
       "      <td>1</td>\n",
       "      <td>153</td>\n",
       "    </tr>\n",
       "    <tr>\n",
       "      <th>38102</th>\n",
       "      <td>aaronha01</td>\n",
       "      <td>1956</td>\n",
       "      <td>153</td>\n",
       "      <td>26</td>\n",
       "      <td>92</td>\n",
       "      <td>0.328407</td>\n",
       "      <td>2</td>\n",
       "      <td>306</td>\n",
       "    </tr>\n",
       "    <tr>\n",
       "      <th>38723</th>\n",
       "      <td>aaronha01</td>\n",
       "      <td>1957</td>\n",
       "      <td>151</td>\n",
       "      <td>44</td>\n",
       "      <td>132</td>\n",
       "      <td>0.321951</td>\n",
       "      <td>3</td>\n",
       "      <td>457</td>\n",
       "    </tr>\n",
       "    <tr>\n",
       "      <th>39338</th>\n",
       "      <td>aaronha01</td>\n",
       "      <td>1958</td>\n",
       "      <td>153</td>\n",
       "      <td>30</td>\n",
       "      <td>95</td>\n",
       "      <td>0.326123</td>\n",
       "      <td>4</td>\n",
       "      <td>610</td>\n",
       "    </tr>\n",
       "    <tr>\n",
       "      <th>39976</th>\n",
       "      <td>aaronha01</td>\n",
       "      <td>1959</td>\n",
       "      <td>154</td>\n",
       "      <td>39</td>\n",
       "      <td>123</td>\n",
       "      <td>0.354531</td>\n",
       "      <td>5</td>\n",
       "      <td>764</td>\n",
       "    </tr>\n",
       "    <tr>\n",
       "      <th>40608</th>\n",
       "      <td>aaronha01</td>\n",
       "      <td>1960</td>\n",
       "      <td>153</td>\n",
       "      <td>40</td>\n",
       "      <td>126</td>\n",
       "      <td>0.291525</td>\n",
       "      <td>6</td>\n",
       "      <td>917</td>\n",
       "    </tr>\n",
       "    <tr>\n",
       "      <th>41245</th>\n",
       "      <td>aaronha01</td>\n",
       "      <td>1961</td>\n",
       "      <td>155</td>\n",
       "      <td>34</td>\n",
       "      <td>120</td>\n",
       "      <td>0.326700</td>\n",
       "      <td>7</td>\n",
       "      <td>1072</td>\n",
       "    </tr>\n",
       "    <tr>\n",
       "      <th>41943</th>\n",
       "      <td>aaronha01</td>\n",
       "      <td>1962</td>\n",
       "      <td>156</td>\n",
       "      <td>45</td>\n",
       "      <td>128</td>\n",
       "      <td>0.322635</td>\n",
       "      <td>8</td>\n",
       "      <td>1228</td>\n",
       "    </tr>\n",
       "    <tr>\n",
       "      <th>42703</th>\n",
       "      <td>aaronha01</td>\n",
       "      <td>1963</td>\n",
       "      <td>161</td>\n",
       "      <td>44</td>\n",
       "      <td>130</td>\n",
       "      <td>0.318542</td>\n",
       "      <td>9</td>\n",
       "      <td>1389</td>\n",
       "    </tr>\n",
       "    <tr>\n",
       "      <th>43455</th>\n",
       "      <td>aaronha01</td>\n",
       "      <td>1964</td>\n",
       "      <td>145</td>\n",
       "      <td>24</td>\n",
       "      <td>95</td>\n",
       "      <td>0.328070</td>\n",
       "      <td>10</td>\n",
       "      <td>1534</td>\n",
       "    </tr>\n",
       "    <tr>\n",
       "      <th>44209</th>\n",
       "      <td>aaronha01</td>\n",
       "      <td>1965</td>\n",
       "      <td>150</td>\n",
       "      <td>32</td>\n",
       "      <td>89</td>\n",
       "      <td>0.317544</td>\n",
       "      <td>11</td>\n",
       "      <td>1684</td>\n",
       "    </tr>\n",
       "    <tr>\n",
       "      <th>44960</th>\n",
       "      <td>aaronha01</td>\n",
       "      <td>1966</td>\n",
       "      <td>158</td>\n",
       "      <td>44</td>\n",
       "      <td>127</td>\n",
       "      <td>0.278607</td>\n",
       "      <td>12</td>\n",
       "      <td>1842</td>\n",
       "    </tr>\n",
       "    <tr>\n",
       "      <th>45734</th>\n",
       "      <td>aaronha01</td>\n",
       "      <td>1967</td>\n",
       "      <td>155</td>\n",
       "      <td>39</td>\n",
       "      <td>109</td>\n",
       "      <td>0.306667</td>\n",
       "      <td>13</td>\n",
       "      <td>1997</td>\n",
       "    </tr>\n",
       "    <tr>\n",
       "      <th>46520</th>\n",
       "      <td>aaronha01</td>\n",
       "      <td>1968</td>\n",
       "      <td>160</td>\n",
       "      <td>29</td>\n",
       "      <td>86</td>\n",
       "      <td>0.287129</td>\n",
       "      <td>14</td>\n",
       "      <td>2157</td>\n",
       "    </tr>\n",
       "    <tr>\n",
       "      <th>47235</th>\n",
       "      <td>aaronha01</td>\n",
       "      <td>1969</td>\n",
       "      <td>147</td>\n",
       "      <td>44</td>\n",
       "      <td>97</td>\n",
       "      <td>0.299817</td>\n",
       "      <td>15</td>\n",
       "      <td>2304</td>\n",
       "    </tr>\n",
       "    <tr>\n",
       "      <th>48167</th>\n",
       "      <td>aaronha01</td>\n",
       "      <td>1970</td>\n",
       "      <td>150</td>\n",
       "      <td>38</td>\n",
       "      <td>118</td>\n",
       "      <td>0.298450</td>\n",
       "      <td>16</td>\n",
       "      <td>2454</td>\n",
       "    </tr>\n",
       "    <tr>\n",
       "      <th>9364</th>\n",
       "      <td>abbated01</td>\n",
       "      <td>1904</td>\n",
       "      <td>154</td>\n",
       "      <td>3</td>\n",
       "      <td>54</td>\n",
       "      <td>0.255613</td>\n",
       "      <td>1</td>\n",
       "      <td>154</td>\n",
       "    </tr>\n",
       "    <tr>\n",
       "      <th>9770</th>\n",
       "      <td>abbated01</td>\n",
       "      <td>1905</td>\n",
       "      <td>153</td>\n",
       "      <td>3</td>\n",
       "      <td>41</td>\n",
       "      <td>0.278689</td>\n",
       "      <td>2</td>\n",
       "      <td>307</td>\n",
       "    </tr>\n",
       "    <tr>\n",
       "      <th>6058</th>\n",
       "      <td>abbeych01</td>\n",
       "      <td>1894</td>\n",
       "      <td>129</td>\n",
       "      <td>7</td>\n",
       "      <td>101</td>\n",
       "      <td>0.313576</td>\n",
       "      <td>1</td>\n",
       "      <td>129</td>\n",
       "    </tr>\n",
       "    <tr>\n",
       "      <th>6353</th>\n",
       "      <td>abbeych01</td>\n",
       "      <td>1895</td>\n",
       "      <td>132</td>\n",
       "      <td>8</td>\n",
       "      <td>84</td>\n",
       "      <td>0.275930</td>\n",
       "      <td>2</td>\n",
       "      <td>261</td>\n",
       "    </tr>\n",
       "    <tr>\n",
       "      <th>77953</th>\n",
       "      <td>abreubo01</td>\n",
       "      <td>1999</td>\n",
       "      <td>152</td>\n",
       "      <td>20</td>\n",
       "      <td>93</td>\n",
       "      <td>0.335165</td>\n",
       "      <td>1</td>\n",
       "      <td>152</td>\n",
       "    </tr>\n",
       "    <tr>\n",
       "      <th>79251</th>\n",
       "      <td>abreubo01</td>\n",
       "      <td>2000</td>\n",
       "      <td>154</td>\n",
       "      <td>25</td>\n",
       "      <td>79</td>\n",
       "      <td>0.315972</td>\n",
       "      <td>2</td>\n",
       "      <td>306</td>\n",
       "    </tr>\n",
       "    <tr>\n",
       "      <th>80637</th>\n",
       "      <td>abreubo01</td>\n",
       "      <td>2001</td>\n",
       "      <td>162</td>\n",
       "      <td>31</td>\n",
       "      <td>110</td>\n",
       "      <td>0.289116</td>\n",
       "      <td>3</td>\n",
       "      <td>468</td>\n",
       "    </tr>\n",
       "    <tr>\n",
       "      <th>81973</th>\n",
       "      <td>abreubo01</td>\n",
       "      <td>2002</td>\n",
       "      <td>157</td>\n",
       "      <td>20</td>\n",
       "      <td>85</td>\n",
       "      <td>0.307692</td>\n",
       "      <td>4</td>\n",
       "      <td>625</td>\n",
       "    </tr>\n",
       "    <tr>\n",
       "      <th>83294</th>\n",
       "      <td>abreubo01</td>\n",
       "      <td>2003</td>\n",
       "      <td>158</td>\n",
       "      <td>20</td>\n",
       "      <td>101</td>\n",
       "      <td>0.299827</td>\n",
       "      <td>5</td>\n",
       "      <td>783</td>\n",
       "    </tr>\n",
       "  </tbody>\n",
       "</table>\n",
       "</div>"
      ],
      "text/plain": [
       "       player_id  year  games_yr  hr  rbi        ba  season  games\n",
       "37447  aaronha01  1955       153  27  106  0.313953       1    153\n",
       "38102  aaronha01  1956       153  26   92  0.328407       2    306\n",
       "38723  aaronha01  1957       151  44  132  0.321951       3    457\n",
       "39338  aaronha01  1958       153  30   95  0.326123       4    610\n",
       "39976  aaronha01  1959       154  39  123  0.354531       5    764\n",
       "40608  aaronha01  1960       153  40  126  0.291525       6    917\n",
       "41245  aaronha01  1961       155  34  120  0.326700       7   1072\n",
       "41943  aaronha01  1962       156  45  128  0.322635       8   1228\n",
       "42703  aaronha01  1963       161  44  130  0.318542       9   1389\n",
       "43455  aaronha01  1964       145  24   95  0.328070      10   1534\n",
       "44209  aaronha01  1965       150  32   89  0.317544      11   1684\n",
       "44960  aaronha01  1966       158  44  127  0.278607      12   1842\n",
       "45734  aaronha01  1967       155  39  109  0.306667      13   1997\n",
       "46520  aaronha01  1968       160  29   86  0.287129      14   2157\n",
       "47235  aaronha01  1969       147  44   97  0.299817      15   2304\n",
       "48167  aaronha01  1970       150  38  118  0.298450      16   2454\n",
       "9364   abbated01  1904       154   3   54  0.255613       1    154\n",
       "9770   abbated01  1905       153   3   41  0.278689       2    307\n",
       "6058   abbeych01  1894       129   7  101  0.313576       1    129\n",
       "6353   abbeych01  1895       132   8   84  0.275930       2    261\n",
       "77953  abreubo01  1999       152  20   93  0.335165       1    152\n",
       "79251  abreubo01  2000       154  25   79  0.315972       2    306\n",
       "80637  abreubo01  2001       162  31  110  0.289116       3    468\n",
       "81973  abreubo01  2002       157  20   85  0.307692       4    625\n",
       "83294  abreubo01  2003       158  20  101  0.299827       5    783"
      ]
     },
     "metadata": {},
     "output_type": "display_data"
    }
   ],
   "source": [
    "def calculate_agg_columns(performance_df):\n",
    "    performance_wdf = performance_df\n",
    "\n",
    "    # Add a column to denote the season number for each player's statistics (1..n, where 1 is their first year and n is their last year)\n",
    "    performance_wdf['season'] = performance_wdf.groupby(by='player_id')['year'].rank(method='min').astype(int)\n",
    "\n",
    "    # Sort by season, and calculate the cumulative games played after each season\n",
    "    performance_wdf.sort_values(by=['player_id', 'season'], inplace=True)\n",
    "    performance_wdf['games'] = performance_wdf.groupby(by='player_id')['games_yr'].cumsum()\n",
    "    display(performance_wdf.head(25))\n",
    "\n",
    "    return performance_wdf\n",
    "\n",
    "performance_df = calculate_agg_columns(performance_df)\n"
   ]
  },
  {
   "cell_type": "markdown",
   "metadata": {},
   "source": [
    "***\n",
    "Calculate the total number of seasons played by each player.  We won't use this as an input feature, but it will be nice to have for overall analysis.\n",
    "***"
   ]
  },
  {
   "cell_type": "code",
   "execution_count": 204,
   "metadata": {},
   "outputs": [
    {
     "data": {
      "text/html": [
       "<div>\n",
       "<style scoped>\n",
       "    .dataframe tbody tr th:only-of-type {\n",
       "        vertical-align: middle;\n",
       "    }\n",
       "\n",
       "    .dataframe tbody tr th {\n",
       "        vertical-align: top;\n",
       "    }\n",
       "\n",
       "    .dataframe thead th {\n",
       "        text-align: right;\n",
       "    }\n",
       "</style>\n",
       "<table border=\"1\" class=\"dataframe\">\n",
       "  <thead>\n",
       "    <tr style=\"text-align: right;\">\n",
       "      <th></th>\n",
       "      <th>num_seasons</th>\n",
       "    </tr>\n",
       "    <tr>\n",
       "      <th>player_id</th>\n",
       "      <th></th>\n",
       "    </tr>\n",
       "  </thead>\n",
       "  <tbody>\n",
       "    <tr>\n",
       "      <th>aaronha01</th>\n",
       "      <td>16</td>\n",
       "    </tr>\n",
       "    <tr>\n",
       "      <th>abbated01</th>\n",
       "      <td>2</td>\n",
       "    </tr>\n",
       "    <tr>\n",
       "      <th>abbeych01</th>\n",
       "      <td>2</td>\n",
       "    </tr>\n",
       "    <tr>\n",
       "      <th>abreubo01</th>\n",
       "      <td>11</td>\n",
       "    </tr>\n",
       "    <tr>\n",
       "      <th>abreujo02</th>\n",
       "      <td>2</td>\n",
       "    </tr>\n",
       "  </tbody>\n",
       "</table>\n",
       "</div>"
      ],
      "text/plain": [
       "           num_seasons\n",
       "player_id             \n",
       "aaronha01           16\n",
       "abbated01            2\n",
       "abbeych01            2\n",
       "abreubo01           11\n",
       "abreujo02            2"
      ]
     },
     "metadata": {},
     "output_type": "display_data"
    }
   ],
   "source": [
    "def calculate_seasons_played(performance_df):\n",
    "    num_seasons_df = pd.DataFrame(performance_df.groupby(by='player_id')['season'].max())\n",
    "    num_seasons_df.rename(columns={'season': 'num_seasons'}, inplace=True)\n",
    "    display(num_seasons_df.head())\n",
    "\n",
    "    return num_seasons_df\n",
    "\n",
    "num_seasons_df = calculate_seasons_played(performance_df)"
   ]
  },
  {
   "cell_type": "markdown",
   "metadata": {},
   "source": [
    "***\n",
    "We are finally ready to locate the peak-performance year/season for each player.  This is done as follows...\n",
    "* Rank HRs, RBIs, and BA for each year the player played.  Lower rankings indicate better performance in that category.\n",
    "* Aggregate the HR/RBI/BA rankings into a single performance level (perf_lvl) ranking.  Again, lower numbers indicate better performance.\n",
    "* Rank each season the player played based on their performance level for that year.  \n",
    "* Drop all seasons except the top ranked season (rank=1).  If more than one season had a ranking of 1, we will keep the latest season as the player's peak performance year.\n",
    "\n",
    "Once the peak performance year is determined, we add in the total number of season's played for that player and result in a peak_season dataframe.\n",
    "***"
   ]
  },
  {
   "cell_type": "code",
   "execution_count": 205,
   "metadata": {},
   "outputs": [
    {
     "data": {
      "text/html": [
       "<div>\n",
       "<style scoped>\n",
       "    .dataframe tbody tr th:only-of-type {\n",
       "        vertical-align: middle;\n",
       "    }\n",
       "\n",
       "    .dataframe tbody tr th {\n",
       "        vertical-align: top;\n",
       "    }\n",
       "\n",
       "    .dataframe thead th {\n",
       "        text-align: right;\n",
       "    }\n",
       "</style>\n",
       "<table border=\"1\" class=\"dataframe\">\n",
       "  <thead>\n",
       "    <tr style=\"text-align: right;\">\n",
       "      <th></th>\n",
       "      <th>num_seasons</th>\n",
       "      <th>peak_season</th>\n",
       "      <th>peak_games</th>\n",
       "    </tr>\n",
       "    <tr>\n",
       "      <th>player_id</th>\n",
       "      <th></th>\n",
       "      <th></th>\n",
       "      <th></th>\n",
       "    </tr>\n",
       "  </thead>\n",
       "  <tbody>\n",
       "    <tr>\n",
       "      <th>aaronha01</th>\n",
       "      <td>16</td>\n",
       "      <td>8</td>\n",
       "      <td>1228</td>\n",
       "    </tr>\n",
       "    <tr>\n",
       "      <th>abbated01</th>\n",
       "      <td>2</td>\n",
       "      <td>2</td>\n",
       "      <td>307</td>\n",
       "    </tr>\n",
       "    <tr>\n",
       "      <th>abbeych01</th>\n",
       "      <td>2</td>\n",
       "      <td>1</td>\n",
       "      <td>129</td>\n",
       "    </tr>\n",
       "    <tr>\n",
       "      <th>abreubo01</th>\n",
       "      <td>11</td>\n",
       "      <td>6</td>\n",
       "      <td>942</td>\n",
       "    </tr>\n",
       "    <tr>\n",
       "      <th>abreujo02</th>\n",
       "      <td>2</td>\n",
       "      <td>1</td>\n",
       "      <td>145</td>\n",
       "    </tr>\n",
       "    <tr>\n",
       "      <th>abstebi01</th>\n",
       "      <td>1</td>\n",
       "      <td>1</td>\n",
       "      <td>137</td>\n",
       "    </tr>\n",
       "    <tr>\n",
       "      <th>ackledu01</th>\n",
       "      <td>1</td>\n",
       "      <td>1</td>\n",
       "      <td>153</td>\n",
       "    </tr>\n",
       "    <tr>\n",
       "      <th>adairje01</th>\n",
       "      <td>3</td>\n",
       "      <td>1</td>\n",
       "      <td>139</td>\n",
       "    </tr>\n",
       "    <tr>\n",
       "      <th>adamsbo03</th>\n",
       "      <td>2</td>\n",
       "      <td>2</td>\n",
       "      <td>304</td>\n",
       "    </tr>\n",
       "    <tr>\n",
       "      <th>adamsbu01</th>\n",
       "      <td>2</td>\n",
       "      <td>2</td>\n",
       "      <td>291</td>\n",
       "    </tr>\n",
       "  </tbody>\n",
       "</table>\n",
       "</div>"
      ],
      "text/plain": [
       "           num_seasons  peak_season  peak_games\n",
       "player_id                                      \n",
       "aaronha01           16            8        1228\n",
       "abbated01            2            2         307\n",
       "abbeych01            2            1         129\n",
       "abreubo01           11            6         942\n",
       "abreujo02            2            1         145\n",
       "abstebi01            1            1         137\n",
       "ackledu01            1            1         153\n",
       "adairje01            3            1         139\n",
       "adamsbo03            2            2         304\n",
       "adamsbu01            2            2         291"
      ]
     },
     "metadata": {},
     "output_type": "display_data"
    }
   ],
   "source": [
    "def calcualte_peak_performance(performance_df):\n",
    "    # Rank HRs, RBIs, and BA for each year the player played.  Lower rankings indicate better performance in that category.\n",
    "    performance_df['hr_rank'] = performance_df.groupby(by='player_id')['hr'].rank(method='min', ascending=False).astype(int)\n",
    "    performance_df['rbi_rank'] = performance_df.groupby(by='player_id')['rbi'].rank(method='min', ascending=False).astype(int)\n",
    "    performance_df['ba_rank'] = performance_df.groupby(by='player_id')['ba'].rank(method='min', ascending=False).astype(int)\n",
    "\n",
    "    # Aggregate the HR/RBI/BA rankings into a single performance level (perf_lvl) ranking.  Again, lower numbers indicate better performance.\n",
    "    performance_df['perf_lvl'] = performance_df['hr_rank'] + performance_df['rbi_rank'] + performance_df['ba_rank']\n",
    "\n",
    "    # Rank each season the player played based on their performance level for that year.  \n",
    "    performance_df['perf_rank'] = performance_df.groupby(by='player_id')['perf_lvl'].rank(method='min').astype(int)\n",
    "\n",
    "    # Drop all season except the top ranked season (rank=1).  If more than one season had a ranking of 1, we will keep the latest season as the player's peak performance year.\n",
    "    peak_season = performance_df['perf_rank'] == 1\n",
    "    peak_season_df = performance_df[peak_season]\n",
    "    peak_season_df = peak_season_df.drop_duplicates(subset=['player_id', 'perf_rank'], keep='last')\n",
    "\n",
    "    # Add in the total number of season's played for each player\n",
    "    peak_season_df.set_index('player_id', inplace=True)\n",
    "    peak_season_df = pd.concat([peak_season_df, num_seasons_df], axis=1)\n",
    "\n",
    "    # Final clean-up, removing columns we don't need and renaming others\n",
    "    peak_season_df = peak_season_df[['num_seasons', 'season', 'games']]\n",
    "    peak_season_df.rename(columns={'season': 'peak_season', 'games': 'peak_games'}, inplace=True)\n",
    "    display(peak_season_df.head(10))\n",
    "\n",
    "    return peak_season_df\n",
    "\n",
    "peak_season_df = calcualte_peak_performance(performance_df)"
   ]
  },
  {
   "cell_type": "markdown",
   "metadata": {},
   "source": [
    "#### Generate the final dataset we will use for modeling: `player_pk_perf_df`."
   ]
  },
  {
   "cell_type": "code",
   "execution_count": 206,
   "metadata": {},
   "outputs": [
    {
     "data": {
      "text/html": [
       "<div>\n",
       "<style scoped>\n",
       "    .dataframe tbody tr th:only-of-type {\n",
       "        vertical-align: middle;\n",
       "    }\n",
       "\n",
       "    .dataframe tbody tr th {\n",
       "        vertical-align: top;\n",
       "    }\n",
       "\n",
       "    .dataframe thead th {\n",
       "        text-align: right;\n",
       "    }\n",
       "</style>\n",
       "<table border=\"1\" class=\"dataframe\">\n",
       "  <thead>\n",
       "    <tr style=\"text-align: right;\">\n",
       "      <th></th>\n",
       "      <th>name</th>\n",
       "      <th>weight</th>\n",
       "      <th>height</th>\n",
       "      <th>bat_hand</th>\n",
       "      <th>throw_hand</th>\n",
       "      <th>rookie_year</th>\n",
       "      <th>position</th>\n",
       "      <th>position_group</th>\n",
       "      <th>num_seasons</th>\n",
       "      <th>peak_season</th>\n",
       "      <th>peak_games</th>\n",
       "    </tr>\n",
       "    <tr>\n",
       "      <th>player_id</th>\n",
       "      <th></th>\n",
       "      <th></th>\n",
       "      <th></th>\n",
       "      <th></th>\n",
       "      <th></th>\n",
       "      <th></th>\n",
       "      <th></th>\n",
       "      <th></th>\n",
       "      <th></th>\n",
       "      <th></th>\n",
       "      <th></th>\n",
       "    </tr>\n",
       "  </thead>\n",
       "  <tbody>\n",
       "    <tr>\n",
       "      <th>aaronha01</th>\n",
       "      <td>Hank Aaron</td>\n",
       "      <td>180</td>\n",
       "      <td>72</td>\n",
       "      <td>R</td>\n",
       "      <td>R</td>\n",
       "      <td>1954</td>\n",
       "      <td>outfielder</td>\n",
       "      <td>outfielder</td>\n",
       "      <td>16</td>\n",
       "      <td>8</td>\n",
       "      <td>1228</td>\n",
       "    </tr>\n",
       "    <tr>\n",
       "      <th>abbated01</th>\n",
       "      <td>Ed Abbaticchio</td>\n",
       "      <td>170</td>\n",
       "      <td>71</td>\n",
       "      <td>R</td>\n",
       "      <td>R</td>\n",
       "      <td>1897</td>\n",
       "      <td>secondbaseman</td>\n",
       "      <td>infielder</td>\n",
       "      <td>2</td>\n",
       "      <td>2</td>\n",
       "      <td>307</td>\n",
       "    </tr>\n",
       "    <tr>\n",
       "      <th>abbeych01</th>\n",
       "      <td>Charlie Abbey</td>\n",
       "      <td>169</td>\n",
       "      <td>68</td>\n",
       "      <td>L</td>\n",
       "      <td>L</td>\n",
       "      <td>1893</td>\n",
       "      <td>outfielder</td>\n",
       "      <td>outfielder</td>\n",
       "      <td>2</td>\n",
       "      <td>1</td>\n",
       "      <td>129</td>\n",
       "    </tr>\n",
       "    <tr>\n",
       "      <th>abreubo01</th>\n",
       "      <td>Bobby Abreu</td>\n",
       "      <td>220</td>\n",
       "      <td>72</td>\n",
       "      <td>L</td>\n",
       "      <td>R</td>\n",
       "      <td>1996</td>\n",
       "      <td>outfielder</td>\n",
       "      <td>outfielder</td>\n",
       "      <td>11</td>\n",
       "      <td>6</td>\n",
       "      <td>942</td>\n",
       "    </tr>\n",
       "    <tr>\n",
       "      <th>abreujo02</th>\n",
       "      <td>Jose Abreu</td>\n",
       "      <td>255</td>\n",
       "      <td>75</td>\n",
       "      <td>R</td>\n",
       "      <td>R</td>\n",
       "      <td>2014</td>\n",
       "      <td>firstbaseman</td>\n",
       "      <td>infielder</td>\n",
       "      <td>2</td>\n",
       "      <td>1</td>\n",
       "      <td>145</td>\n",
       "    </tr>\n",
       "    <tr>\n",
       "      <th>abstebi01</th>\n",
       "      <td>Bill Abstein</td>\n",
       "      <td>185</td>\n",
       "      <td>72</td>\n",
       "      <td>R</td>\n",
       "      <td>R</td>\n",
       "      <td>1906</td>\n",
       "      <td>firstbaseman</td>\n",
       "      <td>infielder</td>\n",
       "      <td>1</td>\n",
       "      <td>1</td>\n",
       "      <td>137</td>\n",
       "    </tr>\n",
       "    <tr>\n",
       "      <th>ackledu01</th>\n",
       "      <td>Dustin Ackley</td>\n",
       "      <td>205</td>\n",
       "      <td>73</td>\n",
       "      <td>L</td>\n",
       "      <td>R</td>\n",
       "      <td>2011</td>\n",
       "      <td>secondbaseman</td>\n",
       "      <td>infielder</td>\n",
       "      <td>1</td>\n",
       "      <td>1</td>\n",
       "      <td>153</td>\n",
       "    </tr>\n",
       "    <tr>\n",
       "      <th>adairje01</th>\n",
       "      <td>Jerry Adair</td>\n",
       "      <td>175</td>\n",
       "      <td>72</td>\n",
       "      <td>R</td>\n",
       "      <td>R</td>\n",
       "      <td>1958</td>\n",
       "      <td>secondbaseman</td>\n",
       "      <td>infielder</td>\n",
       "      <td>3</td>\n",
       "      <td>1</td>\n",
       "      <td>139</td>\n",
       "    </tr>\n",
       "    <tr>\n",
       "      <th>adamsbo03</th>\n",
       "      <td>Bobby Adams</td>\n",
       "      <td>160</td>\n",
       "      <td>70</td>\n",
       "      <td>R</td>\n",
       "      <td>R</td>\n",
       "      <td>1946</td>\n",
       "      <td>thirdbaseman</td>\n",
       "      <td>infielder</td>\n",
       "      <td>2</td>\n",
       "      <td>2</td>\n",
       "      <td>304</td>\n",
       "    </tr>\n",
       "    <tr>\n",
       "      <th>adamsbu01</th>\n",
       "      <td>Buster Adams</td>\n",
       "      <td>180</td>\n",
       "      <td>72</td>\n",
       "      <td>R</td>\n",
       "      <td>R</td>\n",
       "      <td>1939</td>\n",
       "      <td>outfielder</td>\n",
       "      <td>outfielder</td>\n",
       "      <td>2</td>\n",
       "      <td>2</td>\n",
       "      <td>291</td>\n",
       "    </tr>\n",
       "  </tbody>\n",
       "</table>\n",
       "</div>"
      ],
      "text/plain": [
       "                     name  weight  height bat_hand throw_hand  rookie_year  \\\n",
       "player_id                                                                    \n",
       "aaronha01      Hank Aaron     180      72        R          R         1954   \n",
       "abbated01  Ed Abbaticchio     170      71        R          R         1897   \n",
       "abbeych01   Charlie Abbey     169      68        L          L         1893   \n",
       "abreubo01     Bobby Abreu     220      72        L          R         1996   \n",
       "abreujo02      Jose Abreu     255      75        R          R         2014   \n",
       "abstebi01    Bill Abstein     185      72        R          R         1906   \n",
       "ackledu01   Dustin Ackley     205      73        L          R         2011   \n",
       "adairje01     Jerry Adair     175      72        R          R         1958   \n",
       "adamsbo03     Bobby Adams     160      70        R          R         1946   \n",
       "adamsbu01    Buster Adams     180      72        R          R         1939   \n",
       "\n",
       "                position position_group  num_seasons  peak_season  peak_games  \n",
       "player_id                                                                      \n",
       "aaronha01     outfielder     outfielder           16            8        1228  \n",
       "abbated01  secondbaseman      infielder            2            2         307  \n",
       "abbeych01     outfielder     outfielder            2            1         129  \n",
       "abreubo01     outfielder     outfielder           11            6         942  \n",
       "abreujo02   firstbaseman      infielder            2            1         145  \n",
       "abstebi01   firstbaseman      infielder            1            1         137  \n",
       "ackledu01  secondbaseman      infielder            1            1         153  \n",
       "adairje01  secondbaseman      infielder            3            1         139  \n",
       "adamsbo03   thirdbaseman      infielder            2            2         304  \n",
       "adamsbu01     outfielder     outfielder            2            2         291  "
      ]
     },
     "execution_count": 206,
     "metadata": {},
     "output_type": "execute_result"
    }
   ],
   "source": [
    "# Last step: concatenate the players dataframe and the peak_season dataframe, resulting in a dataframe that contains each player's peak performance data.\n",
    "player_pk_perf_df = pd.concat([players_df, peak_season_df], axis=1, join='inner')\n",
    "player_pk_perf_df.head(10)"
   ]
  },
  {
   "cell_type": "markdown",
   "metadata": {},
   "source": [
    "### Data Exploration"
   ]
  },
  {
   "cell_type": "markdown",
   "metadata": {},
   "source": [
    "***\n",
    "Review the mean peaks in various categories.\n",
    "***"
   ]
  },
  {
   "cell_type": "code",
   "execution_count": 207,
   "metadata": {},
   "outputs": [
    {
     "data": {
      "text/html": [
       "<div>\n",
       "<style scoped>\n",
       "    .dataframe tbody tr th:only-of-type {\n",
       "        vertical-align: middle;\n",
       "    }\n",
       "\n",
       "    .dataframe tbody tr th {\n",
       "        vertical-align: top;\n",
       "    }\n",
       "\n",
       "    .dataframe thead th {\n",
       "        text-align: right;\n",
       "    }\n",
       "</style>\n",
       "<table border=\"1\" class=\"dataframe\">\n",
       "  <thead>\n",
       "    <tr style=\"text-align: right;\">\n",
       "      <th></th>\n",
       "      <th>peak_season</th>\n",
       "      <th>peak_games</th>\n",
       "    </tr>\n",
       "    <tr>\n",
       "      <th>position</th>\n",
       "      <th></th>\n",
       "      <th></th>\n",
       "    </tr>\n",
       "  </thead>\n",
       "  <tbody>\n",
       "    <tr>\n",
       "      <th>firstbaseman</th>\n",
       "      <td>2.627178</td>\n",
       "      <td>393.560976</td>\n",
       "    </tr>\n",
       "    <tr>\n",
       "      <th>shortstop</th>\n",
       "      <td>2.625000</td>\n",
       "      <td>391.006944</td>\n",
       "    </tr>\n",
       "    <tr>\n",
       "      <th>outfielder</th>\n",
       "      <td>2.461538</td>\n",
       "      <td>363.742081</td>\n",
       "    </tr>\n",
       "    <tr>\n",
       "      <th>secondbaseman</th>\n",
       "      <td>2.375000</td>\n",
       "      <td>350.996795</td>\n",
       "    </tr>\n",
       "    <tr>\n",
       "      <th>thirdbaseman</th>\n",
       "      <td>2.335766</td>\n",
       "      <td>348.916058</td>\n",
       "    </tr>\n",
       "    <tr>\n",
       "      <th>catcher</th>\n",
       "      <td>1.707865</td>\n",
       "      <td>250.741573</td>\n",
       "    </tr>\n",
       "  </tbody>\n",
       "</table>\n",
       "</div>"
      ],
      "text/plain": [
       "               peak_season  peak_games\n",
       "position                              \n",
       "firstbaseman      2.627178  393.560976\n",
       "shortstop         2.625000  391.006944\n",
       "outfielder        2.461538  363.742081\n",
       "secondbaseman     2.375000  350.996795\n",
       "thirdbaseman      2.335766  348.916058\n",
       "catcher           1.707865  250.741573"
      ]
     },
     "metadata": {},
     "output_type": "display_data"
    },
    {
     "name": "stdout",
     "output_type": "stream",
     "text": [
      "\n"
     ]
    },
    {
     "data": {
      "text/html": [
       "<div>\n",
       "<style scoped>\n",
       "    .dataframe tbody tr th:only-of-type {\n",
       "        vertical-align: middle;\n",
       "    }\n",
       "\n",
       "    .dataframe tbody tr th {\n",
       "        vertical-align: top;\n",
       "    }\n",
       "\n",
       "    .dataframe thead th {\n",
       "        text-align: right;\n",
       "    }\n",
       "</style>\n",
       "<table border=\"1\" class=\"dataframe\">\n",
       "  <thead>\n",
       "    <tr style=\"text-align: right;\">\n",
       "      <th></th>\n",
       "      <th>peak_season</th>\n",
       "      <th>peak_games</th>\n",
       "    </tr>\n",
       "    <tr>\n",
       "      <th>position_group</th>\n",
       "      <th></th>\n",
       "      <th></th>\n",
       "    </tr>\n",
       "  </thead>\n",
       "  <tbody>\n",
       "    <tr>\n",
       "      <th>infielder</th>\n",
       "      <td>2.490095</td>\n",
       "      <td>370.952627</td>\n",
       "    </tr>\n",
       "    <tr>\n",
       "      <th>outfielder</th>\n",
       "      <td>2.461538</td>\n",
       "      <td>363.742081</td>\n",
       "    </tr>\n",
       "    <tr>\n",
       "      <th>catcher</th>\n",
       "      <td>1.707865</td>\n",
       "      <td>250.741573</td>\n",
       "    </tr>\n",
       "  </tbody>\n",
       "</table>\n",
       "</div>"
      ],
      "text/plain": [
       "                peak_season  peak_games\n",
       "position_group                         \n",
       "infielder          2.490095  370.952627\n",
       "outfielder         2.461538  363.742081\n",
       "catcher            1.707865  250.741573"
      ]
     },
     "metadata": {},
     "output_type": "display_data"
    },
    {
     "name": "stdout",
     "output_type": "stream",
     "text": [
      "\n"
     ]
    },
    {
     "data": {
      "text/html": [
       "<div>\n",
       "<style scoped>\n",
       "    .dataframe tbody tr th:only-of-type {\n",
       "        vertical-align: middle;\n",
       "    }\n",
       "\n",
       "    .dataframe tbody tr th {\n",
       "        vertical-align: top;\n",
       "    }\n",
       "\n",
       "    .dataframe thead th {\n",
       "        text-align: right;\n",
       "    }\n",
       "</style>\n",
       "<table border=\"1\" class=\"dataframe\">\n",
       "  <thead>\n",
       "    <tr style=\"text-align: right;\">\n",
       "      <th></th>\n",
       "      <th>peak_season</th>\n",
       "      <th>peak_games</th>\n",
       "    </tr>\n",
       "    <tr>\n",
       "      <th>throw_hand</th>\n",
       "      <th></th>\n",
       "      <th></th>\n",
       "    </tr>\n",
       "  </thead>\n",
       "  <tbody>\n",
       "    <tr>\n",
       "      <th>L</th>\n",
       "      <td>2.628664</td>\n",
       "      <td>390.543974</td>\n",
       "    </tr>\n",
       "    <tr>\n",
       "      <th>R</th>\n",
       "      <td>2.414888</td>\n",
       "      <td>358.315818</td>\n",
       "    </tr>\n",
       "  </tbody>\n",
       "</table>\n",
       "</div>"
      ],
      "text/plain": [
       "            peak_season  peak_games\n",
       "throw_hand                         \n",
       "L              2.628664  390.543974\n",
       "R              2.414888  358.315818"
      ]
     },
     "metadata": {},
     "output_type": "display_data"
    },
    {
     "name": "stdout",
     "output_type": "stream",
     "text": [
      "\n"
     ]
    },
    {
     "data": {
      "text/html": [
       "<div>\n",
       "<style scoped>\n",
       "    .dataframe tbody tr th:only-of-type {\n",
       "        vertical-align: middle;\n",
       "    }\n",
       "\n",
       "    .dataframe tbody tr th {\n",
       "        vertical-align: top;\n",
       "    }\n",
       "\n",
       "    .dataframe thead th {\n",
       "        text-align: right;\n",
       "    }\n",
       "</style>\n",
       "<table border=\"1\" class=\"dataframe\">\n",
       "  <thead>\n",
       "    <tr style=\"text-align: right;\">\n",
       "      <th></th>\n",
       "      <th>peak_season</th>\n",
       "      <th>peak_games</th>\n",
       "    </tr>\n",
       "    <tr>\n",
       "      <th>bat_hand</th>\n",
       "      <th></th>\n",
       "      <th></th>\n",
       "    </tr>\n",
       "  </thead>\n",
       "  <tbody>\n",
       "    <tr>\n",
       "      <th>B</th>\n",
       "      <td>2.557078</td>\n",
       "      <td>383.319635</td>\n",
       "    </tr>\n",
       "    <tr>\n",
       "      <th>L</th>\n",
       "      <td>2.506456</td>\n",
       "      <td>370.944046</td>\n",
       "    </tr>\n",
       "    <tr>\n",
       "      <th>R</th>\n",
       "      <td>2.390805</td>\n",
       "      <td>354.716749</td>\n",
       "    </tr>\n",
       "  </tbody>\n",
       "</table>\n",
       "</div>"
      ],
      "text/plain": [
       "          peak_season  peak_games\n",
       "bat_hand                         \n",
       "B            2.557078  383.319635\n",
       "L            2.506456  370.944046\n",
       "R            2.390805  354.716749"
      ]
     },
     "metadata": {},
     "output_type": "display_data"
    }
   ],
   "source": [
    "def plot_peak_means():\n",
    "    display(player_pk_perf_df.groupby(by='position').mean().sort_values(by='peak_season', ascending=False)[['peak_season', 'peak_games']])\n",
    "    print('')\n",
    "    display(player_pk_perf_df.groupby(by='position_group').mean().sort_values(by='peak_season', ascending=False)[['peak_season', 'peak_games']])\n",
    "    print('')\n",
    "    display(player_pk_perf_df.groupby(by='throw_hand').mean().sort_values(by='peak_season', ascending=False)[['peak_season', 'peak_games']])\n",
    "    print('')\n",
    "    display(player_pk_perf_df.groupby(by='bat_hand').mean().sort_values(by='peak_season', ascending=False)[['peak_season', 'peak_games']])\n",
    "\n",
    "plot_peak_means()"
   ]
  },
  {
   "cell_type": "markdown",
   "metadata": {},
   "source": [
    "While player position and position group seem to impact a player's peak season, throwing hand and batting hand do not appear to have an effect.  \n",
    "We can zoom in further for the position-based data."
   ]
  },
  {
   "cell_type": "markdown",
   "metadata": {},
   "source": [
    "***\n",
    "Display peak distributions for each position.\n",
    "***"
   ]
  },
  {
   "cell_type": "code",
   "execution_count": 208,
   "metadata": {},
   "outputs": [
    {
     "data": {
      "image/png": "[encoded data removed]",
      "text/plain": [
       "<Figure size 1800x720 with 6 Axes>"
      ]
     },
     "metadata": {},
     "output_type": "display_data"
    }
   ],
   "source": [
    "def plot_peak_distributions():\n",
    "    fig, axes = plt.subplots(2, 3, figsize=(25,10))\n",
    "    plt.subplots_adjust(hspace = 0.3)\n",
    "    sns.set_style('whitegrid')\n",
    "\n",
    "    for i, position in enumerate(player_pk_perf_df['position'].value_counts().index.tolist()):\n",
    "        row, col = divmod(i, 3)\n",
    "        pos_hist = sns.histplot(data=player_pk_perf_df[player_pk_perf_df['position'] == position], x='peak_season', binwidth=1, kde=True, ax=axes[row, col])\n",
    "        pos_hist.set_title(position, fontsize=14)\n",
    "        pos_hist.set_ylabel('Count', fontsize=12)\n",
    "        pos_hist.set_xlabel('Peak Season', fontsize=12)\n",
    "        pos_hist.set_xlim(0, 15)\n",
    "\n",
    "plot_peak_distributions()"
   ]
  },
  {
   "cell_type": "markdown",
   "metadata": {},
   "source": [
    "Again, there appears to be a relationship between the position a player plays and their peak season."
   ]
  },
  {
   "cell_type": "markdown",
   "metadata": {},
   "source": [
    "### Setup Model Pipeline"
   ]
  },
  {
   "cell_type": "markdown",
   "metadata": {},
   "source": [
    "***\n",
    "Prepare the data.  We set y to the designated target feature, drop unnecessary columns from the source dataframe, and encode category fields to produce X.\n",
    "***"
   ]
  },
  {
   "cell_type": "code",
   "execution_count": 209,
   "metadata": {},
   "outputs": [],
   "source": [
    "def prep_data(target_feature, targets_ignored, min_num_seasons):\n",
    "    min_seasons_mask = player_pk_perf_df['num_seasons'] >= min_num_seasons\n",
    "    columns_to_encode = ['position','bat_hand', 'throw_hand']\n",
    "    columns_to_drop = ['name', 'position_group'] + [target_feature] + targets_ignored\n",
    "\n",
    "    y = player_pk_perf_df[min_seasons_mask][target_feature]\n",
    "    X = pd.get_dummies(data=player_pk_perf_df[min_seasons_mask].drop(columns_to_drop , axis=1), columns=columns_to_encode)\n",
    "    return X, y"
   ]
  },
  {
   "cell_type": "markdown",
   "metadata": {},
   "source": [
    "***\n",
    "Scale the data, split into test/train, fit the model, and make predictions.  \n",
    "We return the test data, test results (as predictions), and the coefficients the model calculated.\n",
    "***"
   ]
  },
  {
   "cell_type": "code",
   "execution_count": 210,
   "metadata": {},
   "outputs": [],
   "source": [
    "def scale_split_fit_predict(X, y):\n",
    "    from sklearn.model_selection import train_test_split\n",
    "    from sklearn.preprocessing import StandardScaler\n",
    "    from sklearn.linear_model import LinearRegression\n",
    "\n",
    "    scaler = StandardScaler()\n",
    "    pd.DataFrame(scaler.fit_transform(X), columns=X.columns)\n",
    "\n",
    "    X_train, X_test, y_train, y_test = train_test_split(X, y, test_size=.3, random_state=77)\n",
    "    regr = LinearRegression()\n",
    "    regr.fit(X_train, y_train)\n",
    "    predictions = regr.predict(X_test)\n",
    "\n",
    "    coeff_df = pd.DataFrame(regr.coef_,X.columns,columns=['Coefficient'])\n",
    "\n",
    "    return X_test, y_test, predictions, coeff_df"
   ]
  },
  {
   "cell_type": "markdown",
   "metadata": {},
   "source": [
    "***\n",
    "Review the coefficients and compare test predictions to test actual values.\n",
    "***"
   ]
  },
  {
   "cell_type": "code",
   "execution_count": 211,
   "metadata": {},
   "outputs": [],
   "source": [
    "def evaluate_model(target_feature, y_test, predictions, coeff_df):\n",
    "    from sklearn import metrics\n",
    "\n",
    "    feature_labels_dict = {'peak_season': 'Peak Season', 'peak_games': 'Peak Games', 'num_seasons': 'Number of Seasons Played'}\n",
    "\n",
    "    # The mean squared error\n",
    "    mse = metrics.mean_squared_error(y_test, predictions)\n",
    "    print(\"Mean squared error: %.2f\" % mse)\n",
    "    # Root mean squared error\n",
    "    rmse = np.sqrt(mse)\n",
    "    print(\"Root mean squared error: %.2f\" % rmse)\n",
    "\n",
    "    fig, axes = plt.subplots(1, 3, figsize=(25,5))\n",
    "    sns.set_style('whitegrid')\n",
    "    pred_plot = sns.scatterplot(x=predictions, y=y_test, ax=axes[0])\n",
    "    pred_plot.set_title(\"Observed Versus Predicted \" + feature_labels_dict[target_feature], fontsize=14)\n",
    "    pred_plot.set_xlabel(\"Predicted \" + feature_labels_dict[target_feature], fontsize=12)\n",
    "    pred_plot.set_ylabel(\"Observed \" + feature_labels_dict[target_feature], fontsize=12)\n",
    "    pred_plot.set_xlim(pred_plot.get_ylim())\n",
    "\n",
    "    pred_hist = sns.histplot(y_test - predictions, bins=25, kde=True, ax=axes[2])\n",
    "    pred_hist.set_title(feature_labels_dict[target_feature] + ' Prediction Residuals', fontsize=14)\n",
    "    pred_hist.set_xlabel(\"Residual Value\", fontsize=12)\n",
    "    pred_hist.set_ylabel(\"Count\", fontsize=12)\n",
    "\n",
    "    axes[1].axis('off')\n",
    "    bbox=[.33, 0, .5, 1]\n",
    "    formatted_values = [np.round(x,5) for x in coeff_df.values]\n",
    "    table=axes[1].table(cellText = formatted_values, rowLabels = coeff_df.index, bbox=bbox, colLabels=coeff_df.columns, colWidths=[5])\n",
    "    axes[1].set_title('Feature Coefficients', fontsize=14)\n",
    "\n",
    "    for i in range(1, len(coeff_df.index)):\n",
    "        cell_value = float(table.get_celld()[i, 0].get_text().get_text())\n",
    "        threshold = .07 * rmse\n",
    "        if (cell_value < -threshold) or (cell_value > threshold):\n",
    "            table.get_celld()[i, 0].set_facecolor('gold')"
   ]
  },
  {
   "cell_type": "markdown",
   "metadata": {},
   "source": [
    "***\n",
    "Merge the predictions back into the original dataset so we can better visualize the outcomes.\n",
    "***"
   ]
  },
  {
   "cell_type": "code",
   "execution_count": 212,
   "metadata": {},
   "outputs": [],
   "source": [
    "def merge_predictions(target_feature, targets_ignored, X_test, predictions):\n",
    "    prediction_column = 'pred_' + target_feature\n",
    "    test_data_with_pred = X_test.copy()\n",
    "    test_data_with_pred[prediction_column] = predictions\n",
    "    test_data_with_pred = pd.concat([player_pk_perf_df.drop(targets_ignored, axis=1), test_data_with_pred[prediction_column]], axis=1, join='inner')\n",
    "    return test_data_with_pred"
   ]
  },
  {
   "cell_type": "markdown",
   "metadata": {},
   "source": [
    "***\n",
    "Compare test predictions with test actual values, visualized with original categorical data.\n",
    "***"
   ]
  },
  {
   "cell_type": "code",
   "execution_count": 213,
   "metadata": {},
   "outputs": [],
   "source": [
    "def plot_predictions(target_feature, test_data_with_pred):\n",
    "\n",
    "    feature_labels_dict = {'peak_season': 'Peak Season', 'peak_games': 'Peak Games', 'num_seasons': 'Number of Seasons Played'}\n",
    "\n",
    "    prediction_column = 'pred_' + target_feature\n",
    "    palette=dict(catcher='red', outfielder='forestgreen', infielder='royalblue', firstbaseman='darkviolet', secondbaseman='darkorange', thirdbaseman='darkgoldenrod', shortstop='magenta')\n",
    "\n",
    "    fig, axes = plt.subplots(1, 2, figsize=(25,5))\n",
    "    sns.set_style('whitegrid')\n",
    "    \n",
    "    pos_grp_plot = sns.scatterplot(data=test_data_with_pred.sort_values(by=['position_group'], ascending=False), x=prediction_column, y=target_feature, hue='position_group', s=200, palette=palette, ax=axes[0])\n",
    "    pos_grp_plot.set_title(\"Observed Versus Predicted \" + feature_labels_dict[target_feature] + \", by Position Group\", fontsize=14)\n",
    "    pos_grp_plot.set_xlabel(\"Predicted \" + feature_labels_dict[target_feature], fontsize=12)\n",
    "    pos_grp_plot.set_ylabel(\"Observed \" + feature_labels_dict[target_feature], fontsize=12)\n",
    "    pos_grp_plot.set_xlim(pos_grp_plot.get_ylim())\n",
    "\n",
    "    pos_plot = sns.scatterplot(data=test_data_with_pred.sort_values(by=['position'], ascending=False), x=prediction_column, y=target_feature, hue='position', s=200, palette=palette, ax=axes[1])\n",
    "    pos_plot.set_title(\"Observed Versus Predicted \" + feature_labels_dict[target_feature] + \", by Position\", fontsize=14)\n",
    "    pos_plot.set_xlabel(\"Predicted \" + feature_labels_dict[target_feature], fontsize=12)\n",
    "    pos_plot.set_ylabel(\"Observed \" + feature_labels_dict[target_feature], fontsize=12)\n",
    "    pos_plot.set_xlim(pos_plot.get_ylim())\n",
    "    "
   ]
  },
  {
   "cell_type": "markdown",
   "metadata": {},
   "source": [
    "***\n",
    "Run the full pipeline with a specific feature for analysis.\n",
    "***"
   ]
  },
  {
   "cell_type": "code",
   "execution_count": 214,
   "metadata": {},
   "outputs": [],
   "source": [
    "def analyze_feature(target_feature):\n",
    "    possible_targets = ['peak_season', 'peak_games', 'num_seasons']\n",
    "    \n",
    "    targets_ignored = [x for x in possible_targets if x != target_feature]\n",
    "    min_num_seasons = 0\n",
    "\n",
    "    X, y = prep_data(target_feature, targets_ignored, min_num_seasons)\n",
    "    X_test, y_test, predictions, coeff_df = scale_split_fit_predict(X, y)\n",
    "    evaluate_model(target_feature, y_test, predictions, coeff_df)\n",
    "\n",
    "    test_data_with_pred = merge_predictions(target_feature, targets_ignored, X_test, predictions)\n",
    "    plot_predictions(target_feature, test_data_with_pred)"
   ]
  },
  {
   "cell_type": "markdown",
   "metadata": {},
   "source": [
    "### Model `peak_season`"
   ]
  },
  {
   "cell_type": "code",
   "execution_count": 215,
   "metadata": {},
   "outputs": [
    {
     "name": "stdout",
     "output_type": "stream",
     "text": [
      "Mean squared error: 3.61\n",
      "Root mean squared error: 1.90\n"
     ]
    },
    {
     "data": {
      "image/png": "[encoded data removed]",
      "text/plain": [
       "<Figure size 1800x360 with 3 Axes>"
      ]
     },
     "metadata": {},
     "output_type": "display_data"
    },
    {
     "data": {
      "image/png": "[encoded data removed]",
      "text/plain": [
       "<Figure size 1800x360 with 2 Axes>"
      ]
     },
     "metadata": {},
     "output_type": "display_data"
    }
   ],
   "source": [
    "analyze_feature('peak_season')"
   ]
  },
  {
   "cell_type": "markdown",
   "metadata": {},
   "source": [
    "#### `peak_season` analysis\n",
    "Our regression model does an OK job of predicting a player's peak season, as can be seen in the distribution of residuals.  \n",
    "In reviewing the coefficients, however, we see that a player's position (mostly catcher, first baseman, and shortstop) is the primary driver of our results.  \n",
    "It would be interesting to see if this holds true for just \"number of seasons played\" vs. \"peak season\".  We will dig further into this below.\n",
    "___"
   ]
  },
  {
   "cell_type": "markdown",
   "metadata": {},
   "source": [
    "### Model `peak_games`"
   ]
  },
  {
   "cell_type": "code",
   "execution_count": 216,
   "metadata": {},
   "outputs": [],
   "source": [
    "# analyze_feature('peak_games')"
   ]
  },
  {
   "cell_type": "markdown",
   "metadata": {},
   "source": [
    "#### `peak_games` analysis\n",
    "Since player stats are only available at the end of each season (or stint with a team), the number of games recorded at a player's peak is directly correlated with the number of seasons.  For this reason, analyzing peak-games did not provide any more value than what was observed with peak seasons, and the analysis has been hidden.  To view the graphs, simply uncomment the analysis line and re-run the notebook.\n",
    "___"
   ]
  },
  {
   "cell_type": "markdown",
   "metadata": {},
   "source": [
    "### Model `num_seasons`"
   ]
  },
  {
   "cell_type": "code",
   "execution_count": 217,
   "metadata": {},
   "outputs": [
    {
     "name": "stdout",
     "output_type": "stream",
     "text": [
      "Mean squared error: 9.22\n",
      "Root mean squared error: 3.04\n"
     ]
    },
    {
     "data": {
      "image/png": "[encoded data removed]",
      "text/plain": [
       "<Figure size 1800x360 with 3 Axes>"
      ]
     },
     "metadata": {},
     "output_type": "display_data"
    },
    {
     "data": {
      "image/png": "[encoded data removed]",
      "text/plain": [
       "<Figure size 1800x360 with 2 Axes>"
      ]
     },
     "metadata": {},
     "output_type": "display_data"
    }
   ],
   "source": [
    "analyze_feature('num_seasons')"
   ]
  },
  {
   "cell_type": "markdown",
   "metadata": {},
   "source": [
    "#### `num_seasons` analysis\n",
    "Based on this new regression model, it appears once again that position plays a heavy role in predicting the number of seasons a player's career lasts.  Conversely, height, weight, rookie year, and batting/throwing arm have minimal impact. \n",
    "\n",
    "Looking further into how player position impacts longevity, we see that catchers, in particular, tend to have short careers.  And, on the flip side, first basemen tend to have longer careers.  So, if you want to increase your odds have a long career in the majors, be a first baseman!"
   ]
  },
  {
   "cell_type": "markdown",
   "metadata": {},
   "source": [
    "***\n",
    "### Conclusion"
   ]
  },
  {
   "cell_type": "markdown",
   "metadata": {},
   "source": [
    "We originally set out to find the features/factors that could predict when a player's performance will peak.  Through our analysis, we determined that a player's position, while an incomplete predictor, has the most influence on both when a player will peak and how many seasons that player will play.\n",
    "\n",
    "Catchers tend to fade out quickly, and first basemen have longer careers."
   ]
  },
  {
   "cell_type": "markdown",
   "metadata": {},
   "source": [
    "***\n",
    "### Afterthoughts\n",
    "There is plenty more that could be explored around both this dataset and this specific topic...\n",
    " * Are there factors other than a player's position that could better predict the timing of a player's peak, but that were not included in our original analysis?\n",
    " * What causes some positions to result in shorter (or longer) careers.  We could theorize that the strain on a catcher's knees might influence the number of years he can play.  Is there medical data to support this?  Why do first basemen play longer (on average) than their peers?"
   ]
  }
 ],
 "metadata": {
  "interpreter": {
   "hash": "5216eb3e599b5fa97ea886b29fc3d64904e5146db57d33b19d5a6aee34b0ceb6"
  },
  "kernelspec": {
   "display_name": "Python 3.9.7 ('base')",
   "language": "python",
   "name": "python3"
  },
  "language_info": {
   "codemirror_mode": {
    "name": "ipython",
    "version": 3
   },
   "file_extension": ".py",
   "mimetype": "text/x-python",
   "name": "python",
   "nbconvert_exporter": "python",
   "pygments_lexer": "ipython3",
   "version": "3.9.7"
  },
  "orig_nbformat": 4
 },
 "nbformat": 4,
 "nbformat_minor": 2
}
